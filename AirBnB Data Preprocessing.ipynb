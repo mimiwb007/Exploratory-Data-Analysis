{
 "cells": [
  {
   "cell_type": "code",
   "execution_count": 239,
   "metadata": {},
   "outputs": [
    {
     "name": "stderr",
     "output_type": "stream",
     "text": [
      "C:\\Users\\nibed\\AppData\\Local\\Continuum\\anaconda3\\lib\\site-packages\\IPython\\core\\interactiveshell.py:3049: DtypeWarning: Columns (43) have mixed types.Specify dtype option on import or set low_memory=False.\n",
      "  interactivity=interactivity, compiler=compiler, result=result)\n",
      "C:\\Users\\nibed\\AppData\\Local\\Continuum\\anaconda3\\lib\\site-packages\\IPython\\core\\interactiveshell.py:3049: DtypeWarning: Columns (43,88) have mixed types.Specify dtype option on import or set low_memory=False.\n",
      "  interactivity=interactivity, compiler=compiler, result=result)\n"
     ]
    }
   ],
   "source": [
    "import pandas as pd\n",
    "\n",
    "l1 = pd.read_csv(r\"listings file 1 of 4.csv\")\n",
    "l2 = pd.read_csv(r\"listings file 2 of 4.csv\",names=l1.columns)\n",
    "l3 = pd.read_csv(r\"listings file 3 of 4.csv\",names=l1.columns)\n",
    "l4 = pd.read_csv(r\"listings file 4 of 4.csv\",names=l1.columns)\n"
   ]
  },
  {
   "cell_type": "code",
   "execution_count": 240,
   "metadata": {},
   "outputs": [],
   "source": [
    "conn = pd.concat([l1,l2,l3,l4])"
   ]
  },
  {
   "cell_type": "code",
   "execution_count": 245,
   "metadata": {},
   "outputs": [
    {
     "data": {
      "text/plain": [
       "246"
      ]
     },
     "execution_count": 245,
     "metadata": {},
     "output_type": "execute_result"
    }
   ],
   "source": [
    "conn['zipcode'].nunique()"
   ]
  },
  {
   "cell_type": "code",
   "execution_count": 229,
   "metadata": {},
   "outputs": [],
   "source": [
    "ny = conn.copy()"
   ]
  },
  {
   "cell_type": "code",
   "execution_count": 230,
   "metadata": {},
   "outputs": [
    {
     "data": {
      "text/plain": [
       "(4894, 95)"
      ]
     },
     "execution_count": 230,
     "metadata": {},
     "output_type": "execute_result"
    }
   ],
   "source": [
    "#filter out for 2 bedroom properties\n",
    "ny1 = ny[ny['bedrooms']==2]\n",
    "ny1.shape"
   ]
  },
  {
   "cell_type": "code",
   "execution_count": 220,
   "metadata": {},
   "outputs": [],
   "source": [
    "ny1.to_csv(r\"2BHK-NY-Airbnb.csv\",index=False)"
   ]
  },
  {
   "cell_type": "code",
   "execution_count": 231,
   "metadata": {},
   "outputs": [
    {
     "data": {
      "text/html": [
       "<div>\n",
       "<style scoped>\n",
       "    .dataframe tbody tr th:only-of-type {\n",
       "        vertical-align: middle;\n",
       "    }\n",
       "\n",
       "    .dataframe tbody tr th {\n",
       "        vertical-align: top;\n",
       "    }\n",
       "\n",
       "    .dataframe thead th {\n",
       "        text-align: right;\n",
       "    }\n",
       "</style>\n",
       "<table border=\"1\" class=\"dataframe\">\n",
       "  <thead>\n",
       "    <tr style=\"text-align: right;\">\n",
       "      <th></th>\n",
       "      <th>RegionID</th>\n",
       "      <th>RegionName</th>\n",
       "      <th>City</th>\n",
       "      <th>State</th>\n",
       "      <th>Metro</th>\n",
       "      <th>CountyName</th>\n",
       "      <th>SizeRank</th>\n",
       "      <th>1996-04-01 00:00:00</th>\n",
       "      <th>1996-05-01 00:00:00</th>\n",
       "      <th>1996-06-01 00:00:00</th>\n",
       "      <th>...</th>\n",
       "      <th>2016-11-01 00:00:00</th>\n",
       "      <th>2016-12-01 00:00:00</th>\n",
       "      <th>2017-01-01 00:00:00</th>\n",
       "      <th>2017-02-01 00:00:00</th>\n",
       "      <th>2017-03-01 00:00:00</th>\n",
       "      <th>2017-04-01 00:00:00</th>\n",
       "      <th>2017-05-01 00:00:00</th>\n",
       "      <th>2017-06-01 00:00:00</th>\n",
       "      <th>Current Selling Price</th>\n",
       "      <th>Rate</th>\n",
       "    </tr>\n",
       "  </thead>\n",
       "  <tbody>\n",
       "    <tr>\n",
       "      <th>0</th>\n",
       "      <td>61639</td>\n",
       "      <td>10025</td>\n",
       "      <td>New York</td>\n",
       "      <td>NY</td>\n",
       "      <td>New York</td>\n",
       "      <td>New York</td>\n",
       "      <td>1</td>\n",
       "      <td>NaN</td>\n",
       "      <td>NaN</td>\n",
       "      <td>NaN</td>\n",
       "      <td>...</td>\n",
       "      <td>1366300</td>\n",
       "      <td>1354800.0</td>\n",
       "      <td>1327500</td>\n",
       "      <td>1317300</td>\n",
       "      <td>1333700</td>\n",
       "      <td>1352100</td>\n",
       "      <td>1390000</td>\n",
       "      <td>1431000</td>\n",
       "      <td>1431000</td>\n",
       "      <td>54760.0</td>\n",
       "    </tr>\n",
       "    <tr>\n",
       "      <th>1</th>\n",
       "      <td>61637</td>\n",
       "      <td>10023</td>\n",
       "      <td>New York</td>\n",
       "      <td>NY</td>\n",
       "      <td>New York</td>\n",
       "      <td>New York</td>\n",
       "      <td>3</td>\n",
       "      <td>NaN</td>\n",
       "      <td>NaN</td>\n",
       "      <td>NaN</td>\n",
       "      <td>...</td>\n",
       "      <td>1960900</td>\n",
       "      <td>1951300.0</td>\n",
       "      <td>1937800</td>\n",
       "      <td>1929800</td>\n",
       "      <td>1955000</td>\n",
       "      <td>2022400</td>\n",
       "      <td>2095000</td>\n",
       "      <td>2142300</td>\n",
       "      <td>2142300</td>\n",
       "      <td>73110.0</td>\n",
       "    </tr>\n",
       "    <tr>\n",
       "      <th>2</th>\n",
       "      <td>61703</td>\n",
       "      <td>10128</td>\n",
       "      <td>New York</td>\n",
       "      <td>NY</td>\n",
       "      <td>New York</td>\n",
       "      <td>New York</td>\n",
       "      <td>14</td>\n",
       "      <td>NaN</td>\n",
       "      <td>NaN</td>\n",
       "      <td>NaN</td>\n",
       "      <td>...</td>\n",
       "      <td>1527200</td>\n",
       "      <td>1541600.0</td>\n",
       "      <td>1557800</td>\n",
       "      <td>1582900</td>\n",
       "      <td>1598900</td>\n",
       "      <td>1646100</td>\n",
       "      <td>1720500</td>\n",
       "      <td>1787100</td>\n",
       "      <td>1787100</td>\n",
       "      <td>76660.0</td>\n",
       "    </tr>\n",
       "    <tr>\n",
       "      <th>3</th>\n",
       "      <td>61625</td>\n",
       "      <td>10011</td>\n",
       "      <td>New York</td>\n",
       "      <td>NY</td>\n",
       "      <td>New York</td>\n",
       "      <td>New York</td>\n",
       "      <td>15</td>\n",
       "      <td>NaN</td>\n",
       "      <td>NaN</td>\n",
       "      <td>NaN</td>\n",
       "      <td>...</td>\n",
       "      <td>2352200</td>\n",
       "      <td>2332100.0</td>\n",
       "      <td>2313300</td>\n",
       "      <td>2319600</td>\n",
       "      <td>2342100</td>\n",
       "      <td>2365900</td>\n",
       "      <td>2419700</td>\n",
       "      <td>2480400</td>\n",
       "      <td>2480400</td>\n",
       "      <td>96580.0</td>\n",
       "    </tr>\n",
       "    <tr>\n",
       "      <th>4</th>\n",
       "      <td>61617</td>\n",
       "      <td>10003</td>\n",
       "      <td>New York</td>\n",
       "      <td>NY</td>\n",
       "      <td>New York</td>\n",
       "      <td>New York</td>\n",
       "      <td>21</td>\n",
       "      <td>NaN</td>\n",
       "      <td>NaN</td>\n",
       "      <td>NaN</td>\n",
       "      <td>...</td>\n",
       "      <td>1937500</td>\n",
       "      <td>1935100.0</td>\n",
       "      <td>1915700</td>\n",
       "      <td>1916500</td>\n",
       "      <td>1965700</td>\n",
       "      <td>2045300</td>\n",
       "      <td>2109100</td>\n",
       "      <td>2147000</td>\n",
       "      <td>2147000</td>\n",
       "      <td>77930.0</td>\n",
       "    </tr>\n",
       "  </tbody>\n",
       "</table>\n",
       "<p>5 rows × 264 columns</p>\n",
       "</div>"
      ],
      "text/plain": [
       "   RegionID  RegionName      City State     Metro CountyName  SizeRank  \\\n",
       "0     61639       10025  New York    NY  New York   New York         1   \n",
       "1     61637       10023  New York    NY  New York   New York         3   \n",
       "2     61703       10128  New York    NY  New York   New York        14   \n",
       "3     61625       10011  New York    NY  New York   New York        15   \n",
       "4     61617       10003  New York    NY  New York   New York        21   \n",
       "\n",
       "   1996-04-01 00:00:00  1996-05-01 00:00:00  1996-06-01 00:00:00  ...  \\\n",
       "0                  NaN                  NaN                  NaN  ...   \n",
       "1                  NaN                  NaN                  NaN  ...   \n",
       "2                  NaN                  NaN                  NaN  ...   \n",
       "3                  NaN                  NaN                  NaN  ...   \n",
       "4                  NaN                  NaN                  NaN  ...   \n",
       "\n",
       "   2016-11-01 00:00:00  2016-12-01 00:00:00  2017-01-01 00:00:00  \\\n",
       "0              1366300            1354800.0              1327500   \n",
       "1              1960900            1951300.0              1937800   \n",
       "2              1527200            1541600.0              1557800   \n",
       "3              2352200            2332100.0              2313300   \n",
       "4              1937500            1935100.0              1915700   \n",
       "\n",
       "   2017-02-01 00:00:00  2017-03-01 00:00:00  2017-04-01 00:00:00  \\\n",
       "0              1317300              1333700              1352100   \n",
       "1              1929800              1955000              2022400   \n",
       "2              1582900              1598900              1646100   \n",
       "3              2319600              2342100              2365900   \n",
       "4              1916500              1965700              2045300   \n",
       "\n",
       "   2017-05-01 00:00:00  2017-06-01 00:00:00  Current Selling Price     Rate  \n",
       "0              1390000              1431000                1431000  54760.0  \n",
       "1              2095000              2142300                2142300  73110.0  \n",
       "2              1720500              1787100                1787100  76660.0  \n",
       "3              2419700              2480400                2480400  96580.0  \n",
       "4              2109100              2147000                2147000  77930.0  \n",
       "\n",
       "[5 rows x 264 columns]"
      ]
     },
     "execution_count": 231,
     "metadata": {},
     "output_type": "execute_result"
    }
   ],
   "source": [
    "#merge it with our zillow dataset\n",
    "zw = pd.read_csv(r\"ZillowData_NY.csv\")\n",
    "zw.head()\n"
   ]
  },
  {
   "cell_type": "code",
   "execution_count": 232,
   "metadata": {},
   "outputs": [],
   "source": [
    "zw1 = zw[['RegionName','State','Current Selling Price', 'Rate']]\n",
    "zw1.columns =['zipcode','State','Current Selling Price', 'Rate']"
   ]
  },
  {
   "cell_type": "code",
   "execution_count": 233,
   "metadata": {},
   "outputs": [
    {
     "data": {
      "text/plain": [
       "635"
      ]
     },
     "execution_count": 233,
     "metadata": {},
     "output_type": "execute_result"
    }
   ],
   "source": [
    "zw1['zipcode'].nunique()"
   ]
  },
  {
   "cell_type": "code",
   "execution_count": 234,
   "metadata": {},
   "outputs": [
    {
     "name": "stderr",
     "output_type": "stream",
     "text": [
      "C:\\Users\\nibed\\AppData\\Local\\Continuum\\anaconda3\\lib\\site-packages\\ipykernel_launcher.py:4: SettingWithCopyWarning: \n",
      "A value is trying to be set on a copy of a slice from a DataFrame.\n",
      "Try using .loc[row_indexer,col_indexer] = value instead\n",
      "\n",
      "See the caveats in the documentation: https://pandas.pydata.org/pandas-docs/stable/user_guide/indexing.html#returning-a-view-versus-a-copy\n",
      "  after removing the cwd from sys.path.\n",
      "C:\\Users\\nibed\\AppData\\Local\\Continuum\\anaconda3\\lib\\site-packages\\ipykernel_launcher.py:5: SettingWithCopyWarning: \n",
      "A value is trying to be set on a copy of a slice from a DataFrame.\n",
      "Try using .loc[row_indexer,col_indexer] = value instead\n",
      "\n",
      "See the caveats in the documentation: https://pandas.pydata.org/pandas-docs/stable/user_guide/indexing.html#returning-a-view-versus-a-copy\n",
      "  \"\"\"\n"
     ]
    }
   ],
   "source": [
    "def mak(col):\n",
    "    return str(col).strip()\n",
    "\n",
    "zw1['zipcode'] = zw1['zipcode'].apply(mak)\n",
    "ny1['zipcode'] = ny1['zipcode'].apply(mak)"
   ]
  },
  {
   "cell_type": "code",
   "execution_count": 235,
   "metadata": {},
   "outputs": [
    {
     "name": "stderr",
     "output_type": "stream",
     "text": [
      "C:\\Users\\nibed\\AppData\\Local\\Continuum\\anaconda3\\lib\\site-packages\\ipykernel_launcher.py:3: SettingWithCopyWarning: \n",
      "A value is trying to be set on a copy of a slice from a DataFrame.\n",
      "Try using .loc[row_indexer,col_indexer] = value instead\n",
      "\n",
      "See the caveats in the documentation: https://pandas.pydata.org/pandas-docs/stable/user_guide/indexing.html#returning-a-view-versus-a-copy\n",
      "  This is separate from the ipykernel package so we can avoid doing imports until\n",
      "C:\\Users\\nibed\\AppData\\Local\\Continuum\\anaconda3\\lib\\site-packages\\ipykernel_launcher.py:4: SettingWithCopyWarning: \n",
      "A value is trying to be set on a copy of a slice from a DataFrame.\n",
      "Try using .loc[row_indexer,col_indexer] = value instead\n",
      "\n",
      "See the caveats in the documentation: https://pandas.pydata.org/pandas-docs/stable/user_guide/indexing.html#returning-a-view-versus-a-copy\n",
      "  after removing the cwd from sys.path.\n"
     ]
    }
   ],
   "source": [
    "def getzip(col):\n",
    "    return col[:5]\n",
    "ny1['zipcode'] = ny1['zipcode'].apply(getzip)\n",
    "zw1['zipcode'] = zw1['zipcode'].apply(getzip)\n"
   ]
  },
  {
   "cell_type": "code",
   "execution_count": 236,
   "metadata": {},
   "outputs": [
    {
     "data": {
      "text/plain": [
       "22"
      ]
     },
     "execution_count": 236,
     "metadata": {},
     "output_type": "execute_result"
    }
   ],
   "source": [
    "#check how many zipcodes are common\n",
    "\n",
    "need = zw1['zipcode'].values.tolist()\n",
    "avl = ny1['zipcode'].values.tolist()\n",
    "\n",
    "need = [int(i) for i in need]\n",
    "avl = [int(i) for i in avl if i!='nan']\n",
    "p = set(need).intersection(set(avl))\n",
    "len(set(p))"
   ]
  },
  {
   "cell_type": "code",
   "execution_count": 237,
   "metadata": {},
   "outputs": [],
   "source": [
    "mer = pd.merge(zw1,ny1,on='zipcode',how='left')\n",
    "mer1 = mer[~mer['id'].isnull()]\n"
   ]
  },
  {
   "cell_type": "code",
   "execution_count": 238,
   "metadata": {},
   "outputs": [],
   "source": [
    "#save the mergedataframe\n",
    "mer1.to_csv(r\"2BHK-NY-combined.csv\",index=False)"
   ]
  },
  {
   "cell_type": "code",
   "execution_count": null,
   "metadata": {},
   "outputs": [],
   "source": []
  }
 ],
 "metadata": {
  "kernelspec": {
   "display_name": "Python 3",
   "language": "python",
   "name": "python3"
  },
  "language_info": {
   "codemirror_mode": {
    "name": "ipython",
    "version": 3
   },
   "file_extension": ".py",
   "mimetype": "text/x-python",
   "name": "python",
   "nbconvert_exporter": "python",
   "pygments_lexer": "ipython3",
   "version": "3.7.3"
  }
 },
 "nbformat": 4,
 "nbformat_minor": 2
}
